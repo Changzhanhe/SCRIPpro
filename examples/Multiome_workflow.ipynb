{
 "cells": [
  {
   "cell_type": "code",
   "execution_count": 1,
   "id": "ddea712a-42b4-4358-a582-c4f381860ee7",
   "metadata": {},
   "outputs": [],
   "source": [
    "import scripro\n",
    "import anndata\n",
    "import matplotlib.pyplot as plt\n",
    "import numpy as np\n",
    "import seaborn as sns\n",
    "import pandas as pd\n",
    "import scanpy as sc\n",
    "import warnings\n",
    "warnings.filterwarnings(\"ignore\")"
   ]
  },
  {
   "cell_type": "markdown",
   "id": "927437f3-d422-4a49-a464-90aa3436666e",
   "metadata": {},
   "source": [
    "# Import Data"
   ]
  },
  {
   "cell_type": "markdown",
   "id": "51a16564-800a-4fb4-81d4-cd5aa34fcf09",
   "metadata": {},
   "source": [
    "## Obtain the supercell division of each cell from RNA data"
   ]
  },
  {
   "cell_type": "code",
   "execution_count": null,
   "id": "4e427083-2116-4b18-b869-2356fb0c1a9c",
   "metadata": {},
   "outputs": [],
   "source": [
    "atac = sc.read_h5ad('/fs/home/xuyunfan/project/scripmulti/mira/atac_scrip.h5ad')"
   ]
  },
  {
   "cell_type": "code",
   "execution_count": 2,
   "id": "c2d8593f-4fda-4e8c-9a55-ad7cdb6c529e",
   "metadata": {},
   "outputs": [],
   "source": [
    "rna = sc.read_h5ad(\"/fs/home/xuyunfan/data/mira/shareseq_base_data/rna_data.h5ad\")"
   ]
  },
  {
   "cell_type": "code",
   "execution_count": null,
   "id": "be2da6fd-92ae-4c7f-8ca1-335207235207",
   "metadata": {},
   "outputs": [],
   "source": [
    "rna.var_names_make_unique()\n",
    "rna.var_names = [x.capitalize() for x in rna.var_names]"
   ]
  },
  {
   "cell_type": "code",
   "execution_count": 4,
   "id": "57fecc31-cf3d-47a6-92fd-ee2b0a09c1b1",
   "metadata": {},
   "outputs": [],
   "source": [
    "sc.pp.normalize_total(rna, target_sum=1e4)\n",
    "sc.pp.log1p(rna)\n",
    "sc.pp.highly_variable_genes(rna,n_top_genes=3000)\n",
    "rna.raw = rna\n",
    "rna = rna[:, rna.var.highly_variable]\n",
    "#sc.pp.regress_out(self.adata, ['total_counts', 'pct_counts_mt'])\n",
    "sc.pp.scale(rna, max_value=10)\n",
    "sc.tl.pca(rna,svd_solver='arpack')\n",
    "sc.pp.neighbors(rna, n_neighbors=10, n_pcs=40)\n",
    "sc.tl.umap(rna)\n",
    "sc.tl.leiden(rna,resolution=0.6)"
   ]
  },
  {
   "cell_type": "code",
   "execution_count": 5,
   "id": "38f5c44c-57d5-4a7f-8e3e-9abecfd12996",
   "metadata": {},
   "outputs": [
    {
     "name": "stdout",
     "output_type": "stream",
     "text": [
      "WARNING: adata.X seems to be already log-transformed.\n",
      "WARNING: adata.X seems to be already log-transformed.\n",
      "WARNING: adata.X seems to be already log-transformed.\n",
      "WARNING: adata.X seems to be already log-transformed.\n",
      "WARNING: adata.X seems to be already log-transformed.\n",
      "WARNING: adata.X seems to be already log-transformed.\n",
      "WARNING: adata.X seems to be already log-transformed.\n",
      "WARNING: adata.X seems to be already log-transformed.\n",
      "WARNING: adata.X seems to be already log-transformed.\n",
      "WARNING: adata.X seems to be already log-transformed.\n",
      "WARNING: adata.X seems to be already log-transformed.\n",
      "WARNING: adata.X seems to be already log-transformed.\n",
      "WARNING: adata.X seems to be already log-transformed.\n",
      "WARNING: adata.X seems to be already log-transformed.\n",
      "WARNING: adata.X seems to be already log-transformed.\n",
      "WARNING: adata.X seems to be already log-transformed.\n",
      "WARNING: adata.X seems to be already log-transformed.\n",
      "WARNING: adata.X seems to be already log-transformed.\n",
      "WARNING: adata.X seems to be already log-transformed.\n",
      "WARNING: adata.X seems to be already log-transformed.\n"
     ]
    }
   ],
   "source": [
    "test_data = scripro.Ori_Data(rna,Cell_num=50)"
   ]
  },
  {
   "cell_type": "code",
   "execution_count": null,
   "id": "83518220-7c25-474c-99fb-372e36cc2140",
   "metadata": {},
   "outputs": [],
   "source": [
    "%%time\n",
    "test_data.get_positive_marker_gene_parallel(cores=4)"
   ]
  },
  {
   "cell_type": "code",
   "execution_count": null,
   "id": "af461b41-2b18-44e3-93ae-59cf91a160d1",
   "metadata": {},
   "outputs": [],
   "source": [
    "cellgroup = test_data.adata.obs.loc[:,['new_leiden']]"
   ]
  },
  {
   "cell_type": "markdown",
   "id": "745de4a2-adb6-432e-862c-6b06e120a852",
   "metadata": {},
   "source": [
    "## Obtain the landscape of each supercell."
   ]
  },
  {
   "cell_type": "code",
   "execution_count": null,
   "id": "2097cec3-4611-408d-b28b-8220cf9e286e",
   "metadata": {},
   "outputs": [],
   "source": [
    "atac_df=atac.to_df()"
   ]
  },
  {
   "cell_type": "code",
   "execution_count": null,
   "id": "ac72fffb-ddc5-47e1-8ed2-eda43ab769c0",
   "metadata": {},
   "outputs": [],
   "source": [
    "atac_df"
   ]
  },
  {
   "cell_type": "code",
   "execution_count": null,
   "id": "149f7046-4def-46b5-b6ee-8493f26e668c",
   "metadata": {},
   "outputs": [],
   "source": [
    "scripro.dataframe_to_sparse_tsv(atac_df, 'test.tsv')"
   ]
  },
  {
   "cell_type": "code",
   "execution_count": null,
   "id": "cd068b18-4de9-40d7-9fa8-e92de99aac1c",
   "metadata": {},
   "outputs": [],
   "source": [
    "scripro.get_supercell_fragment(cellgroup,'.','./test.tsv',chunksize = 10000000)"
   ]
  },
  {
   "cell_type": "code",
   "execution_count": null,
   "id": "db2313b4-986f-41a1-9e4d-943bd29cf7dd",
   "metadata": {},
   "outputs": [],
   "source": [
    "scripro.process_tsv('./supercell_fragment/', 'mm10')"
   ]
  },
  {
   "cell_type": "markdown",
   "id": "5b17ccd2-33f8-4e69-8ea1-e0c3d2f7724a",
   "metadata": {},
   "source": [
    "# Calculate TF score"
   ]
  },
  {
   "cell_type": "code",
   "execution_count": null,
   "id": "197dec05-7d7e-43a6-9051-d2967d1897de",
   "metadata": {},
   "outputs": [],
   "source": [
    "share_seq = scripro.SCRIPro_Multiome(8,'mm10',test_data)"
   ]
  },
  {
   "cell_type": "code",
   "execution_count": null,
   "id": "9f6f3096-228f-4d37-a9b8-3fa61a3eb49a",
   "metadata": {},
   "outputs": [],
   "source": [
    "%%time\n",
    "share_seq.cal_ISD_parallel('./bigwig/')"
   ]
  },
  {
   "cell_type": "code",
   "execution_count": null,
   "id": "0f9f1259-9279-48b8-9a1a-394b1d362da0",
   "metadata": {},
   "outputs": [],
   "source": [
    "share_seq.get_P_value_matrix()"
   ]
  },
  {
   "cell_type": "code",
   "execution_count": null,
   "id": "4e8df35a-3e3a-497c-83b1-eef3e928c025",
   "metadata": {},
   "outputs": [],
   "source": [
    "share_seq.get_chip_matrix()"
   ]
  },
  {
   "cell_type": "markdown",
   "id": "39c696e9-dbf5-408c-9dfe-98cdc78e1388",
   "metadata": {},
   "source": [
    "# Calculate TF targets"
   ]
  },
  {
   "cell_type": "code",
   "execution_count": null,
   "id": "15ccb9d8-22a6-4258-ac47-988e865d8373",
   "metadata": {},
   "outputs": [],
   "source": [
    "share_seq.get_tf()"
   ]
  },
  {
   "cell_type": "code",
   "execution_count": null,
   "id": "85ab2702-db54-484b-bf22-ee1d3421f60a",
   "metadata": {},
   "outputs": [],
   "source": [
    "share_seq.tf_score"
   ]
  },
  {
   "cell_type": "code",
   "execution_count": null,
   "id": "742024a5-c1db-4d1c-b9e8-8d4bb671ce03",
   "metadata": {},
   "outputs": [],
   "source": [
    "share_seq.get_tf_target('Gata3')"
   ]
  },
  {
   "cell_type": "code",
   "execution_count": null,
   "id": "d877e9e7-506d-45ba-b2e4-5068c625d4d7",
   "metadata": {},
   "outputs": [],
   "source": []
  }
 ],
 "metadata": {
  "kernelspec": {
   "display_name": "scripro_env",
   "language": "python",
   "name": "scripro_env"
  },
  "language_info": {
   "codemirror_mode": {
    "name": "ipython",
    "version": 3
   },
   "file_extension": ".py",
   "mimetype": "text/x-python",
   "name": "python",
   "nbconvert_exporter": "python",
   "pygments_lexer": "ipython3",
   "version": "3.8.18"
  }
 },
 "nbformat": 4,
 "nbformat_minor": 5
}
