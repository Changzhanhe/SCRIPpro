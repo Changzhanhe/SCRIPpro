{
 "cells": [
  {
   "cell_type": "code",
   "execution_count": 1,
   "id": "bd7f0331-d8f2-4ec7-9cf1-6681bf829203",
   "metadata": {},
   "outputs": [
    {
     "name": "stderr",
     "output_type": "stream",
     "text": [
      "/fs/home/xuyunfan/miniconda3/envs/scrip/lib/python3.8/site-packages/tqdm/auto.py:21: TqdmWarning: IProgress not found. Please update jupyter and ipywidgets. See https://ipywidgets.readthedocs.io/en/stable/user_install.html\n",
      "  from .autonotebook import tqdm as notebook_tqdm\n"
     ]
    }
   ],
   "source": [
    "import os\n",
    "import shutil\n",
    "import glob\n",
    "import random\n",
    "import warnings\n",
    "import subprocess\n",
    "import concurrent.futures\n",
    "import multiprocessing\n",
    "from itertools import chain\n",
    "from collections import defaultdict, OrderedDict\n",
    "from functools import partial\n",
    "from scipy import stats, sparse\n",
    "from scipy.spatial.distance import cdist\n",
    "from scipy.sparse import csr_matrix\n",
    "import numpy as np\n",
    "import pandas as pd\n",
    "import anndata\n",
    "import networkx as nx\n",
    "import scanpy as sc\n",
    "import seaborn as sns\n",
    "import h5py\n",
    "import scglue\n",
    "import multiprocessing\n",
    "import matplotlib.pyplot as plt\n",
    "from lisa.core.data_interface import DataInterface\n",
    "from lisa import FromCoverage, FromGenes, FromRegions\n",
    "from lisa.core.assays import LISA_RP_Assay, delta_RP_wrapper, transform_RP,get_delta_RP,get_deltaRP_activation\n",
    "from supercell import *\n",
    "from Ori_data import *\n",
    "from utils import *\n",
    "warnings.filterwarnings(\"ignore\")"
   ]
  },
  {
   "cell_type": "markdown",
   "id": "927437f3-d422-4a49-a464-90aa3436666e",
   "metadata": {},
   "source": [
    "# Import Data"
   ]
  },
  {
   "cell_type": "markdown",
   "id": "51a16564-800a-4fb4-81d4-cd5aa34fcf09",
   "metadata": {},
   "source": [
    "## Obtain the supercell division of each cell from RNA data"
   ]
  },
  {
   "cell_type": "code",
   "execution_count": 2,
   "id": "4e427083-2116-4b18-b869-2356fb0c1a9c",
   "metadata": {},
   "outputs": [],
   "source": [
    "atac = sc.read_h5ad('/fs/home/xuyunfan/project/scripmulti/mira/atac_scrip.h5ad')"
   ]
  },
  {
   "cell_type": "code",
   "execution_count": null,
   "id": "c2d8593f-4fda-4e8c-9a55-ad7cdb6c529e",
   "metadata": {},
   "outputs": [],
   "source": [
    "rna = sc.read_h5ad(\"/fs/home/xuyunfan/data/mira/shareseq_base_data/rna_data.h5ad\")"
   ]
  },
  {
   "cell_type": "code",
   "execution_count": null,
   "id": "7955ae16-c4d0-4863-b138-0b84eb7f3258",
   "metadata": {},
   "outputs": [],
   "source": []
  },
  {
   "cell_type": "code",
   "execution_count": null,
   "id": "be2da6fd-92ae-4c7f-8ca1-335207235207",
   "metadata": {},
   "outputs": [],
   "source": [
    "rna.var_names_make_unique()\n",
    "rna.var_names = [x.capitalize() for x in rna.var_names]"
   ]
  },
  {
   "cell_type": "code",
   "execution_count": null,
   "id": "38f5c44c-57d5-4a7f-8e3e-9abecfd12996",
   "metadata": {},
   "outputs": [],
   "source": [
    "test_data = Ori_Data(rna,Cell_num=50)"
   ]
  },
  {
   "cell_type": "code",
   "execution_count": null,
   "id": "83518220-7c25-474c-99fb-372e36cc2140",
   "metadata": {},
   "outputs": [],
   "source": [
    "%%time\n",
    "test_data.get_positive_marker_gene_parallel(cores=4)"
   ]
  },
  {
   "cell_type": "code",
   "execution_count": null,
   "id": "972fd40f-4f75-4454-a749-7e565e00b605",
   "metadata": {},
   "outputs": [],
   "source": [
    "process_and_merge(atac_df, './', n_num=20)"
   ]
  },
  {
   "cell_type": "code",
   "execution_count": null,
   "id": "af461b41-2b18-44e3-93ae-59cf91a160d1",
   "metadata": {},
   "outputs": [],
   "source": [
    "cellgroup = test_data.adata.obs.loc[:,['new_leiden']]"
   ]
  },
  {
   "cell_type": "markdown",
   "id": "745de4a2-adb6-432e-862c-6b06e120a852",
   "metadata": {},
   "source": [
    "## Obtain the landscape of each supercell."
   ]
  },
  {
   "cell_type": "code",
   "execution_count": null,
   "id": "2097cec3-4611-408d-b28b-8220cf9e286e",
   "metadata": {},
   "outputs": [],
   "source": [
    "atac_df=atac.to_df()"
   ]
  },
  {
   "cell_type": "code",
   "execution_count": null,
   "id": "d69ecd3a-b17e-4259-9299-40a32ad589b2",
   "metadata": {},
   "outputs": [],
   "source": [
    "get_supercell_fragment(cellgroup,'.','./merge.tsv',chunksize = 10000000)"
   ]
  },
  {
   "cell_type": "code",
   "execution_count": null,
   "id": "db2313b4-986f-41a1-9e4d-943bd29cf7dd",
   "metadata": {},
   "outputs": [],
   "source": [
    "process_tsv('./supercell_fragment/', '~/data/bedGraphToBigWig','~/data/mm10.genome')"
   ]
  },
  {
   "cell_type": "code",
   "execution_count": null,
   "id": "f81b6ad4-2bac-48ea-923c-fbec5a8f1c01",
   "metadata": {},
   "outputs": [],
   "source": []
  },
  {
   "cell_type": "markdown",
   "id": "5b17ccd2-33f8-4e69-8ea1-e0c3d2f7724a",
   "metadata": {},
   "source": [
    "# Calculate TF score"
   ]
  },
  {
   "cell_type": "code",
   "execution_count": null,
   "id": "197dec05-7d7e-43a6-9051-d2967d1897de",
   "metadata": {},
   "outputs": [],
   "source": [
    "share_seq = SCRIPro_Multiome(8,'mm10',test_data)"
   ]
  },
  {
   "cell_type": "code",
   "execution_count": null,
   "id": "9f6f3096-228f-4d37-a9b8-3fa61a3eb49a",
   "metadata": {},
   "outputs": [],
   "source": [
    "%%time\n",
    "share_seq.cal_ISD_parallel('./bigwig/')"
   ]
  },
  {
   "cell_type": "code",
   "execution_count": null,
   "id": "0f9f1259-9279-48b8-9a1a-394b1d362da0",
   "metadata": {},
   "outputs": [],
   "source": [
    "share_seq.get_P_value_matrix()"
   ]
  },
  {
   "cell_type": "code",
   "execution_count": null,
   "id": "4e8df35a-3e3a-497c-83b1-eef3e928c025",
   "metadata": {},
   "outputs": [],
   "source": [
    "share_seq.get_chip_matrix()"
   ]
  },
  {
   "cell_type": "code",
   "execution_count": null,
   "id": "0fb16746-437e-42c9-8f3b-d1d9a3f8b461",
   "metadata": {},
   "outputs": [],
   "source": []
  },
  {
   "cell_type": "markdown",
   "id": "39c696e9-dbf5-408c-9dfe-98cdc78e1388",
   "metadata": {},
   "source": [
    "# Calculate TF targets"
   ]
  },
  {
   "cell_type": "code",
   "execution_count": null,
   "id": "d506e2ba-f474-418f-8e4a-ea654a9c99f4",
   "metadata": {},
   "outputs": [],
   "source": [
    "target_h5=pd.HDFStore('~/project/scripmulti/TTTTT/atac_rna/ALL_target_3.h5')"
   ]
  },
  {
   "cell_type": "code",
   "execution_count": null,
   "id": "15ccb9d8-22a6-4258-ac47-988e865d8373",
   "metadata": {},
   "outputs": [],
   "source": [
    "share_seq.get_tf(target_h5)"
   ]
  },
  {
   "cell_type": "code",
   "execution_count": null,
   "id": "85ab2702-db54-484b-bf22-ee1d3421f60a",
   "metadata": {},
   "outputs": [],
   "source": [
    "share_seq.tf_score"
   ]
  },
  {
   "cell_type": "code",
   "execution_count": null,
   "id": "742024a5-c1db-4d1c-b9e8-8d4bb671ce03",
   "metadata": {},
   "outputs": [],
   "source": [
    "share_seq.get_tf_target('Gata3')"
   ]
  },
  {
   "cell_type": "code",
   "execution_count": null,
   "id": "d877e9e7-506d-45ba-b2e4-5068c625d4d7",
   "metadata": {},
   "outputs": [],
   "source": []
  }
 ],
 "metadata": {
  "kernelspec": {
   "display_name": "scrip",
   "language": "python",
   "name": "scrip"
  },
  "language_info": {
   "codemirror_mode": {
    "name": "ipython",
    "version": 3
   },
   "file_extension": ".py",
   "mimetype": "text/x-python",
   "name": "python",
   "nbconvert_exporter": "python",
   "pygments_lexer": "ipython3",
   "version": "3.8.0"
  }
 },
 "nbformat": 4,
 "nbformat_minor": 5
}
